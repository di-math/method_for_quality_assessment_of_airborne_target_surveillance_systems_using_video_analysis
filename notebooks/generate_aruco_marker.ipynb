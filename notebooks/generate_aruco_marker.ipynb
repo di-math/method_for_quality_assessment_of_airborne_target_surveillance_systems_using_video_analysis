{
 "cells": [
  {
   "cell_type": "markdown",
   "metadata": {},
   "source": [
    "# Generate an ArUCo Marker"
   ]
  },
  {
   "cell_type": "markdown",
   "metadata": {},
   "source": [
    "This notebook provides basic functionality to generate an AruCo marker using OpenCV. You can define the aruco-dictionary, marker size in pixels, marker id, and file name of the output image below."
   ]
  },
  {
   "cell_type": "markdown",
   "metadata": {},
   "source": [
    "## Imports and Globals"
   ]
  },
  {
   "cell_type": "code",
   "execution_count": 1,
   "metadata": {},
   "outputs": [],
   "source": [
    "import os\n",
    "import matplotlib.pyplot as plt\n",
    "import numpy as np\n",
    "import cv2 as cv\n",
    "\n",
    "# Define ArUco dictionary\n",
    "ARUCO_DICTIONARY = cv.aruco.DICT_ARUCO_ORIGINAL\n",
    "# Define marker size in pixel\n",
    "marker_image_size = 500\n",
    "# Define the marker id\n",
    "marker_id = 1\n",
    "# Define the file name the marker will be saved to\n",
    "file_name = f\"aruco_marker_{marker_id}.png\""
   ]
  },
  {
   "cell_type": "markdown",
   "metadata": {},
   "source": [
    "## Marker Generation"
   ]
  },
  {
   "cell_type": "code",
   "execution_count": 2,
   "metadata": {},
   "outputs": [
    {
     "data": {
      "image/png": "[encoded data removed]",
      "text/plain": [
       "<Figure size 640x480 with 1 Axes>"
      ]
     },
     "metadata": {},
     "output_type": "display_data"
    }
   ],
   "source": [
    "def create_marker(id: int, marker_size: int, file_name: str, aruco_dicitonary: int) -> None:\n",
    "    marker_image = np.zeros((marker_image_size, marker_image_size, 1), dtype=\"uint8\")\n",
    "\n",
    "    # Load the ArUCo dictionary\n",
    "    arucoDict = cv.aruco.getPredefinedDictionary(aruco_dicitonary)\n",
    "\n",
    "    # Generate Marker\n",
    "    cv.aruco.generateImageMarker(arucoDict, id, marker_image_size, marker_image, 1);\n",
    "\n",
    "    # Save Marker\n",
    "    if (not os.path.isdir(\"output\")): os.mkdir(\"output\") \n",
    "    cv.imwrite(\"output/\" + file_name, marker_image)\n",
    "\n",
    "    # Show Marker\n",
    "    marker_image_rgb = cv.cvtColor(marker_image, cv.COLOR_BGR2RGB)\n",
    "    plt.imshow(marker_image_rgb)\n",
    "    plt.xticks([])\n",
    "    plt.yticks([])\n",
    "    plt.title(\"Marker ID \" + str(id))\n",
    "    plt.show()\n",
    "\n",
    "create_marker(marker_id, marker_image_size, file_name, ARUCO_DICTIONARY)"
   ]
  }
 ],
 "metadata": {
  "kernelspec": {
   "display_name": "Python 3.10.2 64-bit",
   "language": "python",
   "name": "python3"
  },
  "language_info": {
   "codemirror_mode": {
    "name": "ipython",
    "version": 3
   },
   "file_extension": ".py",
   "mimetype": "text/x-python",
   "name": "python",
   "nbconvert_exporter": "python",
   "pygments_lexer": "ipython3",
   "version": "3.10.2"
  },
  "orig_nbformat": 4,
  "vscode": {
   "interpreter": {
    "hash": "26de051ba29f2982a8de78e945f0abaf191376122a1563185a90213a26c5da77"
   }
  }
 },
 "nbformat": 4,
 "nbformat_minor": 2
}
